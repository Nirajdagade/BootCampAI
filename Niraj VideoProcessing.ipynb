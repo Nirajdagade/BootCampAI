{
 "cells": [
  {
   "cell_type": "code",
   "execution_count": 1,
   "id": "ef7e5584-ebaf-411c-9812-41cbc6268d35",
   "metadata": {},
   "outputs": [],
   "source": [
    "import cv2"
   ]
  },
  {
   "cell_type": "code",
   "execution_count": 3,
   "id": "2ce4ba79-ef8b-4631-a7ec-1b4b22711b72",
   "metadata": {},
   "outputs": [],
   "source": [
    "# Initialize the webcam (0 is usually the default camera)\n",
    "cap = cv2.VideoCapture(0)"
   ]
  },
  {
   "cell_type": "code",
   "execution_count": 4,
   "id": "8cae43d0-b125-434b-8964-d7fc836f11e1",
   "metadata": {},
   "outputs": [],
   "source": [
    "# Check if the webcam is opened correctly\n",
    "if not cap.isOpened():\n",
    "    print(\"Error: Could not open webcam.\")\n",
    "    exit()"
   ]
  },
  {
   "cell_type": "code",
   "execution_count": 5,
   "id": "c15642c7-8ff4-4934-a7f1-9437fca560cd",
   "metadata": {},
   "outputs": [],
   "source": [
    "# Capture a single frame\n",
    "ret, frame = cap.read()"
   ]
  },
  {
   "cell_type": "code",
   "execution_count": null,
   "id": "9bd5546a-10e8-438e-9285-03f4392f7179",
   "metadata": {},
   "outputs": [],
   "source": [
    "# If frame is captured successfully\n",
    "if ret:\n",
    "    # Display the frame in a window\n",
    "    cv2.imshow('Captured Frame', frame)\n",
    "    \n",
    "    # Wait for a key press to close the window\n",
    "    cv2.waitKey(0)\n",
    "\n",
    "# Release the webcam and close the window\n",
    "cap.release()\n",
    "cv2.destroyAllWindows()"
   ]
  },
  {
   "cell_type": "code",
   "execution_count": null,
   "id": "3b265bc2-02b2-4b2f-b51d-b534ec2020cc",
   "metadata": {},
   "outputs": [],
   "source": [
    "mport cv2\n",
    "\n",
    "# Initialize the webcam (0 is usually the default camera)\n",
    "cap = cv2.VideoCapture(0)\n",
    "\n",
    "# Check if the webcam is opened correctly\n",
    "if not cap.isOpened():\n",
    "    print(\"Error: Could not open webcam.\")\n",
    "    exit()\n",
    "\n",
    "# Loop to continuously capture frames\n",
    "while True:\n",
    "    # Capture each frame\n",
    "    ret, frame = cap.read()\n",
    "\n",
    "    # If the frame is captured successfully\n",
    "    if ret:\n",
    "        # Display the frame in a window\n",
    "        cv2.imshow('Webcam Feed', frame)\n",
    "\n",
    "        # Wait for 1 ms and check if 'q' is pressed to quit\n",
    "        if cv2.waitKey(1) & 0xFF == ord('q'):\n",
    "            break\n",
    "    else:\n",
    "        print(\"Error: Failed to capture frame.\")\n",
    "        break\n",
    "\n",
    "# Release the webcam and close all OpenCV windows\n",
    "cap.release()\n",
    "cv2.destroyAllWindows()"
   ]
  },
  {
   "cell_type": "code",
   "execution_count": null,
   "id": "cb573947-3573-498a-a3b8-aae565e148b0",
   "metadata": {},
   "outputs": [],
   "source": [
    "cap.release()\n",
    "cv2.destroyAllWindows()"
   ]
  },
  {
   "cell_type": "code",
   "execution_count": null,
   "id": "c4b3e8d5-c1bd-49a0-b5a7-d88228b3e239",
   "metadata": {},
   "outputs": [],
   "source": []
  }
 ],
 "metadata": {
  "kernelspec": {
   "display_name": "Python 3 (ipykernel)",
   "language": "python",
   "name": "python3"
  },
  "language_info": {
   "codemirror_mode": {
    "name": "ipython",
    "version": 3
   },
   "file_extension": ".py",
   "mimetype": "text/x-python",
   "name": "python",
   "nbconvert_exporter": "python",
   "pygments_lexer": "ipython3",
   "version": "3.12.7"
  }
 },
 "nbformat": 4,
 "nbformat_minor": 5
}
